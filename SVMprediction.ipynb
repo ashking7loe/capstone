{
 "cells": [
  {
   "cell_type": "markdown",
   "metadata": {
    "colab_type": "text",
    "id": "plwXkdy9ydNq"
   },
   "source": [
    "Importing libraries\n"
   ]
  },
  {
   "cell_type": "code",
   "execution_count": 0,
   "metadata": {
    "colab": {},
    "colab_type": "code",
    "id": "uiRl7p5wL2jn"
   },
   "outputs": [],
   "source": [
    "import numpy as np \n",
    "import pandas as pd\n",
    "import matplotlib.pyplot as plt\n",
    "import seaborn as sns\n",
    "%matplotlib inline\n",
    "from sklearn.feature_extraction import FeatureHasher\n",
    "from sklearn.model_selection import train_test_split\n",
    "from sklearn.linear_model import LogisticRegression\n",
    "from sklearn.metrics import classification_report\n",
    "from sklearn.metrics import confusion_matrix\n",
    "from mpl_toolkits.mplot3d import Axes3D\n",
    "from sklearn.preprocessing import StandardScaler"
   ]
  },
  {
   "cell_type": "markdown",
   "metadata": {
    "colab_type": "text",
    "id": "9q-FYsJ0yrSp"
   },
   "source": [
    "Mounting G-Drive\n"
   ]
  },
  {
   "cell_type": "code",
   "execution_count": 3,
   "metadata": {
    "colab": {
     "base_uri": "https://localhost:8080/",
     "height": 122
    },
    "colab_type": "code",
    "id": "hUFqU4etT6Cy",
    "outputId": "9bc846a6-6419-4f4a-af5e-9574677d5d66"
   },
   "outputs": [
    {
     "name": "stdout",
     "output_type": "stream",
     "text": [
      "Go to this URL in a browser: https://accounts.google.com/o/oauth2/auth?client_id=947318989803-6bn6qk8qdgf4n4g3pfee6491hc0brc4i.apps.googleusercontent.com&redirect_uri=urn%3Aietf%3Awg%3Aoauth%3A2.0%3Aoob&scope=email%20https%3A%2F%2Fwww.googleapis.com%2Fauth%2Fdocs.test%20https%3A%2F%2Fwww.googleapis.com%2Fauth%2Fdrive%20https%3A%2F%2Fwww.googleapis.com%2Fauth%2Fdrive.photos.readonly%20https%3A%2F%2Fwww.googleapis.com%2Fauth%2Fpeopleapi.readonly&response_type=code\n",
      "\n",
      "Enter your authorization code:\n",
      "··········\n",
      "Mounted at /content/drive\n"
     ]
    }
   ],
   "source": [
    "from google.colab import drive\n",
    "drive.mount('/content/drive')"
   ]
  },
  {
   "cell_type": "markdown",
   "metadata": {
    "colab_type": "text",
    "id": "KK0c9G_eyyEG"
   },
   "source": [
    "Reading Dataset using Pandas"
   ]
  },
  {
   "cell_type": "code",
   "execution_count": 4,
   "metadata": {
    "colab": {
     "base_uri": "https://localhost:8080/",
     "height": 255
    },
    "colab_type": "code",
    "id": "Y53b9cMXROT5",
    "outputId": "183c3ce6-7a05-42d5-e86a-39360aec4a24"
   },
   "outputs": [
    {
     "name": "stdout",
     "output_type": "stream",
     "text": [
      "         Trip ID  Duration  ... Precinct Boundaries Census Tracts\n",
      "0       18222186     15060  ...                 NaN           NaN\n",
      "1        9518671     77160  ...                 NaN           NaN\n",
      "2       20444932     86400  ...                 NaN           NaN\n",
      "3       20905031     18840  ...                 NaN           NaN\n",
      "4       21031476     86400  ...                 NaN           NaN\n",
      "...          ...       ...  ...                 ...           ...\n",
      "132422   4907293      2520  ...               847.0         567.0\n",
      "132423   4908300      1080  ...               660.0         694.0\n",
      "132424   4726795      1500  ...               660.0         694.0\n",
      "132425   5034026       780  ...               527.0         542.0\n",
      "132426   5250466       300  ...              1262.0         544.0\n",
      "\n",
      "[132427 rows x 18 columns]\n"
     ]
    }
   ],
   "source": [
    "train=pd.read_csv(\"/content/drive/My Drive/metro-bike-share-trip-data.csv\")\n",
    "print(train)"
   ]
  },
  {
   "cell_type": "markdown",
   "metadata": {
    "colab_type": "text",
    "id": "iHnHBHovy5gm"
   },
   "source": [
    "Type and Count of Pass Types"
   ]
  },
  {
   "cell_type": "code",
   "execution_count": 5,
   "metadata": {
    "colab": {
     "base_uri": "https://localhost:8080/",
     "height": 102
    },
    "colab_type": "code",
    "id": "eN8LYhSVbrEa",
    "outputId": "2355b46b-796b-426d-d9f9-1a48b288f1a4"
   },
   "outputs": [
    {
     "data": {
      "text/plain": [
       "Monthly Pass    81300\n",
       "Walk-up         41232\n",
       "Flex Pass        9513\n",
       "Staff Annual      382\n",
       "Name: Passholder Type, dtype: int64"
      ]
     },
     "execution_count": 5,
     "metadata": {
      "tags": []
     },
     "output_type": "execute_result"
    }
   ],
   "source": [
    "train['Passholder Type'].value_counts()"
   ]
  },
  {
   "cell_type": "markdown",
   "metadata": {
    "colab_type": "text",
    "id": "AzTx4xbezI3r"
   },
   "source": [
    "Visualizing Missing Data"
   ]
  },
  {
   "cell_type": "code",
   "execution_count": 6,
   "metadata": {
    "colab": {
     "base_uri": "https://localhost:8080/",
     "height": 404
    },
    "colab_type": "code",
    "id": "OIB6fyL0xx2C",
    "outputId": "9a21a5da-07a1-4cb5-e5fa-23919dcaac92"
   },
   "outputs": [
    {
     "data": {
      "text/plain": [
       "<matplotlib.axes._subplots.AxesSubplot at 0x7f4fe10a7c50>"
      ]
     },
     "execution_count": 6,
     "metadata": {
      "tags": []
     },
     "output_type": "execute_result"
    },
    {
     "data": {
      "image/png": "[encoded data removed]",
      "text/plain": [
       "<Figure size 432x288 with 1 Axes>"
      ]
     },
     "metadata": {
      "tags": []
     },
     "output_type": "display_data"
    }
   ],
   "source": [
    "sns.heatmap(train.isnull(),yticklabels=False,cbar=False,cmap='viridis')"
   ]
  },
  {
   "cell_type": "markdown",
   "metadata": {
    "colab_type": "text",
    "id": "EgN8FIxM0Fzd"
   },
   "source": [
    "Missing data percent"
   ]
  },
  {
   "cell_type": "code",
   "execution_count": 7,
   "metadata": {
    "colab": {
     "base_uri": "https://localhost:8080/",
     "height": 357
    },
    "colab_type": "code",
    "id": "OHoYSWsvKkeA",
    "outputId": "07cb0835-0913-4462-fb94-fd0791ed0729"
   },
   "outputs": [
    {
     "name": "stdout",
     "output_type": "stream",
     "text": [
      "Missing data percentage as per individual columns:\n"
     ]
    },
    {
     "data": {
      "text/plain": [
       "Trip ID                        0.000000\n",
       "Duration                       0.000000\n",
       "Start Time                     0.000000\n",
       "End Time                       0.000000\n",
       "Starting Station ID            0.014348\n",
       "Starting Station Latitude      0.036246\n",
       "Starting Station Longitude     0.036246\n",
       "Ending Station ID              0.072493\n",
       "Ending Station Latitude        0.793645\n",
       "Ending Station Longitude       0.793645\n",
       "Bike ID                        0.007551\n",
       "Plan Duration                  0.578432\n",
       "Trip Route Category            0.000000\n",
       "Passholder Type                0.000000\n",
       "Starting Lat-Long             25.527272\n",
       "Ending Lat-Long                0.793645\n",
       "Precinct Boundaries            0.829891\n",
       "Census Tracts                  0.829891\n",
       "dtype: float64"
      ]
     },
     "execution_count": 7,
     "metadata": {
      "tags": []
     },
     "output_type": "execute_result"
    }
   ],
   "source": [
    "print(\"Missing data percentage as per individual columns:\")\n",
    "train_na = (train.isnull().sum()*100)/len(train)\n",
    "train_na"
   ]
  },
  {
   "cell_type": "markdown",
   "metadata": {
    "colab_type": "text",
    "id": "0DdciGY3yU3t"
   },
   "source": [
    "Dropping Null Values from Dataset\n"
   ]
  },
  {
   "cell_type": "code",
   "execution_count": 0,
   "metadata": {
    "colab": {},
    "colab_type": "code",
    "id": "HE5AR2j7P-Jt"
   },
   "outputs": [],
   "source": [
    "train = train.dropna()"
   ]
  },
  {
   "cell_type": "markdown",
   "metadata": {
    "colab_type": "text",
    "id": "iD13-2Sk0Oje"
   },
   "source": [
    "No. of Rows left after Data Cleaning\n"
   ]
  },
  {
   "cell_type": "code",
   "execution_count": 9,
   "metadata": {
    "colab": {
     "base_uri": "https://localhost:8080/",
     "height": 34
    },
    "colab_type": "code",
    "id": "-antsEi-QELz",
    "outputId": "aaf33a79-a6f6-4aa5-8cad-0ae644e0e802"
   },
   "outputs": [
    {
     "data": {
      "text/plain": [
       "97777"
      ]
     },
     "execution_count": 9,
     "metadata": {
      "tags": []
     },
     "output_type": "execute_result"
    }
   ],
   "source": [
    "train.shape[0]"
   ]
  },
  {
   "cell_type": "markdown",
   "metadata": {
    "colab_type": "text",
    "id": "v7_paElk0iJK"
   },
   "source": [
    "PassType Vs Duration (ScatterPlot)"
   ]
  },
  {
   "cell_type": "code",
   "execution_count": 10,
   "metadata": {
    "colab": {
     "base_uri": "https://localhost:8080/",
     "height": 282
    },
    "colab_type": "code",
    "id": "XF7269dfS6HV",
    "outputId": "819edb2e-94cf-449c-d3dd-270deff246c3"
   },
   "outputs": [
    {
     "data": {
      "image/png": "[encoded data removed]",
      "text/plain": [
       "<Figure size 432x288 with 1 Axes>"
      ]
     },
     "metadata": {
      "tags": []
     },
     "output_type": "display_data"
    }
   ],
   "source": [
    "fig, ax = plt.subplots()\n",
    "ax.scatter(train['Passholder Type'], train['Duration'])\n",
    "plt.ylabel('Duration (in seconds)', fontsize=13)\n",
    "plt.xlabel('PassHolder Type', fontsize=13)\n",
    "plt.show()"
   ]
  },
  {
   "cell_type": "markdown",
   "metadata": {
    "colab_type": "text",
    "id": "htrKCqFT7HPR"
   },
   "source": [
    "Distance Calculation"
   ]
  },
  {
   "cell_type": "code",
   "execution_count": 0,
   "metadata": {
    "colab": {},
    "colab_type": "code",
    "id": "he9RpfF8TZ0S"
   },
   "outputs": [],
   "source": [
    "l = []\n",
    "import math \n",
    "degrees_to_radians = math.pi/180.0\n",
    "def distance_on_unit_sphere(lat1, long1, lat2, long2):\n",
    "    phi1 = (90.0 - lat1)*degrees_to_radians\n",
    "    phi2 = (90.0 - lat2)*degrees_to_radians\n",
    "    \n",
    "    theta1 = long1*degrees_to_radians\n",
    "    theta2 = long2*degrees_to_radians\n",
    "    \n",
    "    a = ((math.sin(phi1)*math.sin(phi2)*math.cos(theta1 - theta2)) +(math.cos(phi1)*math.cos(phi2)))\n",
    "    if a>1:\n",
    "        a=0.999999\n",
    "    dis = math.acos( a )\n",
    "    return dis*6373\n",
    "for i in range(97777):\n",
    "    l.append(distance_on_unit_sphere(train['Starting Station Latitude'].iloc[i],\n",
    "                                     train['Starting Station Longitude'].iloc[i],\n",
    "                                     train['Ending Station Latitude'].iloc[i],\n",
    "                                     train['Ending Station Longitude'].iloc[i]))"
   ]
  },
  {
   "cell_type": "markdown",
   "metadata": {
    "colab_type": "text",
    "id": "FIKLObMY7P-f"
   },
   "source": [
    "Temporary Dataframe \n"
   ]
  },
  {
   "cell_type": "code",
   "execution_count": 0,
   "metadata": {
    "colab": {},
    "colab_type": "code",
    "id": "iXgQYFMrTyCo"
   },
   "outputs": [],
   "source": [
    "temp = pd.DataFrame(data=[train['Duration'],\n",
    "                               train['Starting Station Latitude'],\n",
    "                               train['Starting Station Longitude'],\n",
    "                               train['Ending Station Latitude'],\n",
    "                               train['Ending Station Longitude'],\n",
    "                               train['Plan Duration']],\n",
    "                               index=['Duration',\n",
    "                                      'Starting Station Latitude',\n",
    "                                      'Starting Station Longitude',\n",
    "                                      'Ending Station Latitude',\n",
    "                                      'Ending Station Longitude',\n",
    "                                      'Plan Duration'])"
   ]
  },
  {
   "cell_type": "markdown",
   "metadata": {
    "colab_type": "text",
    "id": "UzE_Qd657bUa"
   },
   "source": [
    "New Training Dataset"
   ]
  },
  {
   "cell_type": "code",
   "execution_count": 13,
   "metadata": {
    "colab": {
     "base_uri": "https://localhost:8080/",
     "height": 238
    },
    "colab_type": "code",
    "id": "ptdlRXvJUIJY",
    "outputId": "cecd96d8-ed56-445f-f00d-fa9f8c0fdbee"
   },
   "outputs": [
    {
     "name": "stdout",
     "output_type": "stream",
     "text": [
      "Shape of new train  (97777, 6)\n",
      "Shape of distance  (97777, 1)\n"
     ]
    },
    {
     "data": {
      "text/html": [
       "<div>\n",
       "<style scoped>\n",
       "    .dataframe tbody tr th:only-of-type {\n",
       "        vertical-align: middle;\n",
       "    }\n",
       "\n",
       "    .dataframe tbody tr th {\n",
       "        vertical-align: top;\n",
       "    }\n",
       "\n",
       "    .dataframe thead th {\n",
       "        text-align: right;\n",
       "    }\n",
       "</style>\n",
       "<table border=\"1\" class=\"dataframe\">\n",
       "  <thead>\n",
       "    <tr style=\"text-align: right;\">\n",
       "      <th></th>\n",
       "      <th>Distance</th>\n",
       "    </tr>\n",
       "  </thead>\n",
       "  <tbody>\n",
       "    <tr>\n",
       "      <th>97772</th>\n",
       "      <td>0.000134</td>\n",
       "    </tr>\n",
       "    <tr>\n",
       "      <th>97773</th>\n",
       "      <td>2.698472</td>\n",
       "    </tr>\n",
       "    <tr>\n",
       "      <th>97774</th>\n",
       "      <td>3.958028</td>\n",
       "    </tr>\n",
       "    <tr>\n",
       "      <th>97775</th>\n",
       "      <td>1.840795</td>\n",
       "    </tr>\n",
       "    <tr>\n",
       "      <th>97776</th>\n",
       "      <td>0.680439</td>\n",
       "    </tr>\n",
       "  </tbody>\n",
       "</table>\n",
       "</div>"
      ],
      "text/plain": [
       "       Distance\n",
       "97772  0.000134\n",
       "97773  2.698472\n",
       "97774  3.958028\n",
       "97775  1.840795\n",
       "97776  0.680439"
      ]
     },
     "execution_count": 13,
     "metadata": {
      "tags": []
     },
     "output_type": "execute_result"
    }
   ],
   "source": [
    "distance = pd.DataFrame({'Distance':l})\n",
    "new_train = temp.T\n",
    "print(\"Shape of new train \",new_train.shape)\n",
    "print (\"Shape of distance \",distance.shape)\n",
    "distance.tail()"
   ]
  },
  {
   "cell_type": "code",
   "execution_count": 14,
   "metadata": {
    "colab": {
     "base_uri": "https://localhost:8080/",
     "height": 221
    },
    "colab_type": "code",
    "id": "sSkrycfsZrY8",
    "outputId": "232013b7-1c1a-4ce1-aec1-85cd1d9d4be4"
   },
   "outputs": [
    {
     "data": {
      "text/html": [
       "<div>\n",
       "<style scoped>\n",
       "    .dataframe tbody tr th:only-of-type {\n",
       "        vertical-align: middle;\n",
       "    }\n",
       "\n",
       "    .dataframe tbody tr th {\n",
       "        vertical-align: top;\n",
       "    }\n",
       "\n",
       "    .dataframe thead th {\n",
       "        text-align: right;\n",
       "    }\n",
       "</style>\n",
       "<table border=\"1\" class=\"dataframe\">\n",
       "  <thead>\n",
       "    <tr style=\"text-align: right;\">\n",
       "      <th></th>\n",
       "      <th>Duration</th>\n",
       "      <th>Starting Station Latitude</th>\n",
       "      <th>Starting Station Longitude</th>\n",
       "      <th>Ending Station Latitude</th>\n",
       "      <th>Ending Station Longitude</th>\n",
       "      <th>Plan Duration</th>\n",
       "    </tr>\n",
       "  </thead>\n",
       "  <tbody>\n",
       "    <tr>\n",
       "      <th>132422</th>\n",
       "      <td>2520.0</td>\n",
       "      <td>34.051102</td>\n",
       "      <td>-118.26456</td>\n",
       "      <td>34.051102</td>\n",
       "      <td>-118.26456</td>\n",
       "      <td>0.0</td>\n",
       "    </tr>\n",
       "    <tr>\n",
       "      <th>132423</th>\n",
       "      <td>1080.0</td>\n",
       "      <td>34.049980</td>\n",
       "      <td>-118.24716</td>\n",
       "      <td>34.035679</td>\n",
       "      <td>-118.27081</td>\n",
       "      <td>30.0</td>\n",
       "    </tr>\n",
       "    <tr>\n",
       "      <th>132424</th>\n",
       "      <td>1500.0</td>\n",
       "      <td>34.056610</td>\n",
       "      <td>-118.23721</td>\n",
       "      <td>34.031052</td>\n",
       "      <td>-118.26709</td>\n",
       "      <td>30.0</td>\n",
       "    </tr>\n",
       "    <tr>\n",
       "      <th>132425</th>\n",
       "      <td>780.0</td>\n",
       "      <td>34.039188</td>\n",
       "      <td>-118.23253</td>\n",
       "      <td>34.044159</td>\n",
       "      <td>-118.25158</td>\n",
       "      <td>365.0</td>\n",
       "    </tr>\n",
       "    <tr>\n",
       "      <th>132426</th>\n",
       "      <td>300.0</td>\n",
       "      <td>34.053021</td>\n",
       "      <td>-118.24795</td>\n",
       "      <td>34.056969</td>\n",
       "      <td>-118.25359</td>\n",
       "      <td>30.0</td>\n",
       "    </tr>\n",
       "  </tbody>\n",
       "</table>\n",
       "</div>"
      ],
      "text/plain": [
       "        Duration  ...  Plan Duration\n",
       "132422    2520.0  ...            0.0\n",
       "132423    1080.0  ...           30.0\n",
       "132424    1500.0  ...           30.0\n",
       "132425     780.0  ...          365.0\n",
       "132426     300.0  ...           30.0\n",
       "\n",
       "[5 rows x 6 columns]"
      ]
     },
     "execution_count": 14,
     "metadata": {
      "tags": []
     },
     "output_type": "execute_result"
    }
   ],
   "source": [
    "new_train.tail()"
   ]
  },
  {
   "cell_type": "code",
   "execution_count": 15,
   "metadata": {
    "colab": {
     "base_uri": "https://localhost:8080/",
     "height": 289
    },
    "colab_type": "code",
    "id": "iSKQnVypUWAR",
    "outputId": "fedfe6b1-d108-4223-d2a9-4ea7b23aafa0"
   },
   "outputs": [
    {
     "name": "stdout",
     "output_type": "stream",
     "text": [
      "<class 'pandas.core.frame.DataFrame'>\n",
      "RangeIndex: 97777 entries, 0 to 97776\n",
      "Data columns (total 11 columns):\n",
      "Distance                      97777 non-null float64\n",
      "Duration                      97777 non-null float64\n",
      "Starting Station Latitude     97777 non-null float64\n",
      "Starting Station Longitude    97777 non-null float64\n",
      "Ending Station Latitude       97777 non-null float64\n",
      "Ending Station Longitude      97777 non-null float64\n",
      "Plan Duration                 97777 non-null float64\n",
      "Flex Pass                     97777 non-null uint8\n",
      "Monthly Pass                  97777 non-null uint8\n",
      "Walk-up                       97777 non-null uint8\n",
      "Round Trip                    97777 non-null uint8\n",
      "dtypes: float64(7), uint8(4)\n",
      "memory usage: 5.6 MB\n"
     ]
    }
   ],
   "source": [
    "new_train = new_train.reset_index(drop=True)\n",
    "new_train = pd.concat([distance,\n",
    "                       new_train,\n",
    "                       pd.get_dummies(data=train['Passholder Type']).reset_index(),\n",
    "                       pd.get_dummies(data=train['Trip Route Category'],drop_first=True).reset_index()],\n",
    "                       axis=1)\n",
    "new_train = new_train.drop('index',axis=1)\n",
    "new_train.info()"
   ]
  },
  {
   "cell_type": "code",
   "execution_count": 30,
   "metadata": {
    "colab": {
     "base_uri": "https://localhost:8080/",
     "height": 102
    },
    "colab_type": "code",
    "id": "ntBZSeUxUpQv",
    "outputId": "bfce5b8d-3521-438e-888b-c755ccfae9f5"
   },
   "outputs": [
    {
     "name": "stdout",
     "output_type": "stream",
     "text": [
      "There are 3 different types of Passholder : \n"
     ]
    },
    {
     "data": {
      "text/plain": [
       "Monthly Pass    60051\n",
       "Walk-up         30531\n",
       "Flex Pass        7195\n",
       "Name: Passholder Type, dtype: int64"
      ]
     },
     "execution_count": 30,
     "metadata": {
      "tags": []
     },
     "output_type": "execute_result"
    }
   ],
   "source": [
    "print(\"There are 3 different types of Passholder : \")\n",
    "train['Passholder Type'].value_counts()"
   ]
  },
  {
   "cell_type": "markdown",
   "metadata": {
    "colab_type": "text",
    "id": "4NxLFikT7oFX"
   },
   "source": [
    "SVM Prediction for Walk-Up Pass\n"
   ]
  },
  {
   "cell_type": "code",
   "execution_count": 28,
   "metadata": {
    "colab": {
     "base_uri": "https://localhost:8080/",
     "height": 51
    },
    "colab_type": "code",
    "id": "Xs4DFolpUrus",
    "outputId": "ef4e0da4-e9a2-4585-bacb-17ea0d81444f"
   },
   "outputs": [
    {
     "name": "stdout",
     "output_type": "stream",
     "text": [
      "[1 1 0 ... 1 0 1]\n",
      "Accuracy Score : 0.9967459013853163\n"
     ]
    }
   ],
   "source": [
    "X1 = new_train.drop('Walk-up',axis=1)\n",
    "y1 = new_train['Walk-up']\n",
    "X_train,X_test,y_train,y_test = train_test_split(X1,y1,test_size=0.33)\n",
    "from sklearn.svm import SVC\n",
    "clf = SVC(gamma='auto')\n",
    "clf.fit(X_train, y_train) \n",
    "SVC(C=1.0, cache_size=200, class_weight=None, coef0=0.0,\n",
    "    decision_function_shape='ovr', degree=3, gamma='auto', kernel='rbf',\n",
    "    max_iter=-1, probability=False, random_state=None, shrinking=True,\n",
    "    tol=0.001, verbose=False)\n",
    "print(clf.predict(X_test))\n",
    "from sklearn.metrics import accuracy_score\n",
    "print ('Accuracy Score :',accuracy_score(y_test, clf.predict(X_test)))"
   ]
  },
  {
   "cell_type": "markdown",
   "metadata": {
    "colab_type": "text",
    "id": "39eDSGc5VtOR"
   },
   "source": [
    "SVM Prediction for Monthly Pass\n"
   ]
  },
  {
   "cell_type": "code",
   "execution_count": 25,
   "metadata": {
    "colab": {
     "base_uri": "https://localhost:8080/",
     "height": 51
    },
    "colab_type": "code",
    "id": "53sOm5avVS30",
    "outputId": "041c2df7-8e87-4e34-da51-85e07c4346eb"
   },
   "outputs": [
    {
     "name": "stdout",
     "output_type": "stream",
     "text": [
      "[0 1 1 ... 1 0 1]\n",
      "Accuracy Score : 0.9966839185545604\n"
     ]
    }
   ],
   "source": [
    "X2 = new_train.drop('Monthly Pass',axis=1)\n",
    "y2 = new_train['Monthly Pass']\n",
    "X_train,X_test,y_train,y_test = train_test_split(X2,y2,test_size=0.33,shuffle=False)\n",
    "from sklearn.svm import SVC\n",
    "clf = SVC(gamma='auto')\n",
    "clf.fit(X_train, y_train) \n",
    "SVC(C=1.0, cache_size=200, class_weight=None, coef0=0.0,\n",
    "    decision_function_shape='ovr', degree=3, gamma='auto', kernel='rbf',\n",
    "    max_iter=-1, probability=False, random_state=None, shrinking=True,\n",
    "    tol=0.001, verbose=False)\n",
    "print(clf.predict(X_test))\n",
    "from sklearn.metrics import accuracy_score\n",
    "print ('Accuracy Score :',accuracy_score(y_test, clf.predict(X_test)))"
   ]
  },
  {
   "cell_type": "markdown",
   "metadata": {
    "colab_type": "text",
    "id": "30wHa7BQ75SH"
   },
   "source": [
    "SVM Prediction for Flex Pass\n"
   ]
  },
  {
   "cell_type": "code",
   "execution_count": 26,
   "metadata": {
    "colab": {
     "base_uri": "https://localhost:8080/",
     "height": 51
    },
    "colab_type": "code",
    "id": "3ODMPvUcVqxj",
    "outputId": "62893918-b13a-4e01-b0d7-8d49890e3934"
   },
   "outputs": [
    {
     "name": "stdout",
     "output_type": "stream",
     "text": [
      "[1 0 0 ... 0 0 0]\n",
      "Accuracy Score : 0.9990702575386617\n"
     ]
    }
   ],
   "source": [
    "X3 = new_train.drop('Flex Pass',axis=1)\n",
    "y3 = new_train['Flex Pass']\n",
    "X_train,X_test,y_train,y_test = train_test_split(X3,y3,test_size=0.33)\n",
    "from sklearn.svm import SVC\n",
    "clf = SVC(gamma='auto')\n",
    "clf.fit(X_train, y_train) \n",
    "SVC(C=1.0, cache_size=200, class_weight=None, coef0=0.0,\n",
    "    decision_function_shape='ovr', degree=3, gamma='auto', kernel='rbf',\n",
    "    max_iter=-1, probability=False, random_state=None, shrinking=True,\n",
    "    tol=0.001, verbose=False)\n",
    "print(clf.predict(X_test))\n",
    "from sklearn.metrics import accuracy_score\n",
    "print ('Accuracy Score :',accuracy_score(y_test, clf.predict(X_test)))"
   ]
  }
 ],
 "metadata": {
  "colab": {
   "name": "Untitled0.ipynb",
   "provenance": []
  },
  "kernelspec": {
   "display_name": "Python 3",
   "language": "python",
   "name": "python3"
  },
  "language_info": {
   "codemirror_mode": {
    "name": "ipython",
    "version": 3
   },
   "file_extension": ".py",
   "mimetype": "text/x-python",
   "name": "python",
   "nbconvert_exporter": "python",
   "pygments_lexer": "ipython3",
   "version": "3.7.0"
  }
 },
 "nbformat": 4,
 "nbformat_minor": 1
}
